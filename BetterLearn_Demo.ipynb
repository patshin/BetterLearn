{
 "cells": [
  {
   "cell_type": "code",
   "execution_count": 1,
   "metadata": {},
   "outputs": [],
   "source": [
    "from ipywidgets import widgets\n",
    "from IPython.display import display\n",
    "textbook = \"The catabolism and commensalism are what we studied last time.\"\n",
    "textSplit = textbook.split()\n",
    "words = textbook.split()\n",
    "wordsCount = len(words)\n",
    "wordsIndex = 0\n",
    "#Example capacity for checking future vocabularies, prediction model required\n",
    "sensitivity = 10\n",
    "#Dictionary\n",
    "D = {\n",
    "    'catabolism':'breakdown in living organisms of more complex substances into simpler ones together with release of energy',\n",
    "    'commensalism':'when one organism benefits from another without damaging it'\n",
    "}"
   ]
  },
  {
   "cell_type": "code",
   "execution_count": 2,
   "metadata": {},
   "outputs": [
    {
     "name": "stdout",
     "output_type": "stream",
     "text": [
      "['catabolism', 'commensalism']\n",
      "2\n"
     ]
    }
   ],
   "source": [
    "#Update the filtered list of words\n",
    "def updateFiltered():\n",
    "    global words,wordsCount\n",
    "    filtered = []\n",
    "    for word in words:\n",
    "        if word in D:\n",
    "            filtered.append(word)\n",
    "    words = filtered\n",
    "    wordsCount = len(filtered)\n",
    "    \n",
    "updateFiltered();\n",
    "print(words)\n",
    "print(wordsCount)"
   ]
  },
  {
   "cell_type": "code",
   "execution_count": 3,
   "metadata": {
    "scrolled": false
   },
   "outputs": [
    {
     "data": {
      "application/vnd.jupyter.widget-view+json": {
       "model_id": "3c8be72ddf1d44bf8a5504614959b2ab",
       "version_major": 2,
       "version_minor": 0
      },
      "text/plain": [
       "Text(value='')"
      ]
     },
     "metadata": {},
     "output_type": "display_data"
    },
    {
     "data": {
      "application/vnd.jupyter.widget-view+json": {
       "model_id": "73807c79c7d84154b63b0590d55eb24b",
       "version_major": 2,
       "version_minor": 0
      },
      "text/plain": [
       "Button(description='✔', style=ButtonStyle())"
      ]
     },
     "metadata": {},
     "output_type": "display_data"
    },
    {
     "data": {
      "application/vnd.jupyter.widget-view+json": {
       "model_id": "7a619871d61a47bda86cf4eb8f43e17d",
       "version_major": 2,
       "version_minor": 0
      },
      "text/plain": [
       "Button(description='✘', style=ButtonStyle())"
      ]
     },
     "metadata": {},
     "output_type": "display_data"
    },
    {
     "data": {
      "application/vnd.jupyter.widget-view+json": {
       "model_id": "3728e1bbb5b04e2eba99e2cf6acff7f9",
       "version_major": 2,
       "version_minor": 0
      },
      "text/plain": [
       "Button(description='PRINT', style=ButtonStyle())"
      ]
     },
     "metadata": {},
     "output_type": "display_data"
    },
    {
     "name": "stdout",
     "output_type": "stream",
     "text": [
      "catabolism?\n"
     ]
    }
   ],
   "source": [
    "#input textbox\n",
    "text = widgets.Text()\n",
    "display(text)\n",
    "\n",
    "buttonInc = widgets.Button(description=\"✔\")\n",
    "buttonDec = widgets.Button(description=\"✘\")\n",
    "buttonPrint = widgets.Button(description=\"PRINT\")\n",
    "\n",
    "display(buttonInc)\n",
    "display(buttonDec)\n",
    "display(buttonPrint)\n",
    "\n",
    "def handle(sender):\n",
    "    global textbook\n",
    "    textbook = test.value\n",
    "    \n",
    "def onInc(b):\n",
    "    global sensitivity,wordsIndex,wordsCount\n",
    "    if wordsIndex<wordsCount:\n",
    "        del words[wordsIndex]\n",
    "    sensitivity += 1\n",
    "    wordsCount -= 1\n",
    "    print(\"PASS\")\n",
    "    prompt()\n",
    "    \n",
    "def onDec(b):\n",
    "    global sensitivity,wordsIndex\n",
    "    sensitivity -= 1\n",
    "    #lookUp(sensitivity)\n",
    "    wordsIndex += 1\n",
    "    print(\"FAIL\")\n",
    "    prompt()\n",
    "\n",
    "def onPrint(b):\n",
    "    global sensitivity\n",
    "    lookUp(sensitivity)\n",
    "    \n",
    "def lookUp(sens):\n",
    "    #split text\n",
    "    output = \"\"\n",
    "    global textSplit,words\n",
    "    #words = textbook.split()\n",
    "\n",
    "    #iterate over words\n",
    "    for word in textSplit:\n",
    "        if len(word)>=sens and word in words:\n",
    "            defined = word + '(' + D[word] + ')'\n",
    "            output += defined\n",
    "        else:\n",
    "            output += word\n",
    "        output += \" \"\n",
    "    print(output)\n",
    "\n",
    "def prompt():\n",
    "    global words\n",
    "    if wordsCount > wordsIndex:\n",
    "        if words[wordsIndex] in D:\n",
    "            print(words[wordsIndex] + '?')\n",
    "\n",
    "text.on_submit(handle)\n",
    "buttonInc.on_click(onInc)\n",
    "buttonDec.on_click(onDec)\n",
    "buttonPrint.on_click(onPrint)\n",
    "    \n",
    "prompt()"
   ]
  },
  {
   "cell_type": "code",
   "execution_count": null,
   "metadata": {},
   "outputs": [],
   "source": []
  }
 ],
 "metadata": {
  "kernelspec": {
   "display_name": "Python 3",
   "language": "python",
   "name": "python3"
  },
  "language_info": {
   "codemirror_mode": {
    "name": "ipython",
    "version": 3
   },
   "file_extension": ".py",
   "mimetype": "text/x-python",
   "name": "python",
   "nbconvert_exporter": "python",
   "pygments_lexer": "ipython3",
   "version": "3.7.4"
  }
 },
 "nbformat": 4,
 "nbformat_minor": 2
}
