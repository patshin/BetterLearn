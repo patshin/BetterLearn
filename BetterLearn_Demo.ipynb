{
 "cells": [
  {
   "cell_type": "code",
   "execution_count": 34,
   "metadata": {},
   "outputs": [],
   "source": [
    "import sys\n",
    "from ipywidgets import widgets\n",
    "from IPython.display import display\n",
    "textbook = \"The catabolism and commensalism are what we studied last time.\"\n",
    "#Caps\n",
    "sensitivity = 10\n",
    "#Dictionary\n",
    "D = {\n",
    "    'catabolism':'breakdown in living organisms of more complex substances into simpler ones together with release of energy',\n",
    "    'commensalism':'when one organism benefits from another without damaging it'\n",
    "}"
   ]
  },
  {
   "cell_type": "code",
   "execution_count": 38,
   "metadata": {
    "scrolled": true
   },
   "outputs": [
    {
     "data": {
      "application/vnd.jupyter.widget-view+json": {
       "model_id": "ac0eaacb866d4490bb34f48603e7be0b",
       "version_major": 2,
       "version_minor": 0
      },
      "text/plain": [
       "Text(value='')"
      ]
     },
     "metadata": {},
     "output_type": "display_data"
    },
    {
     "data": {
      "application/vnd.jupyter.widget-view+json": {
       "model_id": "d068294672c34b5ab4c5adca9b0e3b6e",
       "version_major": 2,
       "version_minor": 0
      },
      "text/plain": [
       "Button(description='✔', style=ButtonStyle())"
      ]
     },
     "metadata": {},
     "output_type": "display_data"
    },
    {
     "data": {
      "application/vnd.jupyter.widget-view+json": {
       "model_id": "dc5ace293697485286f0790591916b06",
       "version_major": 2,
       "version_minor": 0
      },
      "text/plain": [
       "Button(description='✘', style=ButtonStyle())"
      ]
     },
     "metadata": {},
     "output_type": "display_data"
    },
    {
     "name": "stdout",
     "output_type": "stream",
     "text": [
      "The catabolism(breakdown in living organisms of more complex substances into simpler ones together with release of energy) and commensalism(when one organism benefits from another without damaging it) are what we studied last time. \n",
      "The catabolism and commensalism(when one organism benefits from another without damaging it) are what we studied last time. \n",
      "The catabolism and commensalism(when one organism benefits from another without damaging it) are what we studied last time. \n",
      "The catabolism and commensalism are what we studied last time. \n",
      "The catabolism and commensalism(when one organism benefits from another without damaging it) are what we studied last time. \n",
      "The catabolism and commensalism(when one organism benefits from another without damaging it) are what we studied last time. \n",
      "The catabolism(breakdown in living organisms of more complex substances into simpler ones together with release of energy) and commensalism(when one organism benefits from another without damaging it) are what we studied last time. \n"
     ]
    }
   ],
   "source": [
    "text = widgets.Text()\n",
    "buttonInc = widgets.Button(description=\"✔\")\n",
    "buttonDec = widgets.Button(description=\"✘\")\n",
    "\n",
    "display(text)\n",
    "display(buttonInc)\n",
    "display(buttonDec)\n",
    "\n",
    "def handle(sender):\n",
    "    print(text.value)\n",
    "\n",
    "def onInc(b):\n",
    "    global sensitivity\n",
    "    sensitivity += 1\n",
    "    lookUp(sensitivity)\n",
    "    \n",
    "    \n",
    "def onDec(b):\n",
    "    global sensitivity\n",
    "    sensitivity -= 1\n",
    "    lookUp(sensitivity)\n",
    "    \n",
    "def lookUp(sens):\n",
    "    #split text\n",
    "    output = \"\"\n",
    "    words = textbook.split()\n",
    "\n",
    "    #iterate over words\n",
    "    for word in words:\n",
    "        if len(word)>=sens:\n",
    "            if word in D:\n",
    "                output += word\n",
    "                output += '('\n",
    "                output += D[word]\n",
    "                output += ')'\n",
    "            else:\n",
    "                output += word\n",
    "        else:\n",
    "            output += word\n",
    "        output += \" \"\n",
    "    print(output)\n",
    "\n",
    "text.on_submit(handle)\n",
    "buttonInc.on_click(onInc)\n",
    "buttonDec.on_click(onDec)\n",
    "\n",
    "#default lookup\n",
    "lookUp(0)"
   ]
  },
  {
   "cell_type": "code",
   "execution_count": null,
   "metadata": {},
   "outputs": [],
   "source": []
  }
 ],
 "metadata": {
  "kernelspec": {
   "display_name": "Python 3",
   "language": "python",
   "name": "python3"
  },
  "language_info": {
   "codemirror_mode": {
    "name": "ipython",
    "version": 3
   },
   "file_extension": ".py",
   "mimetype": "text/x-python",
   "name": "python",
   "nbconvert_exporter": "python",
   "pygments_lexer": "ipython3",
   "version": "3.7.4"
  }
 },
 "nbformat": 4,
 "nbformat_minor": 2
}
